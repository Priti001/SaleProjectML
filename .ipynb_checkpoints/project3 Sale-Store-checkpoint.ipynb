{
 "cells": [
  {
   "cell_type": "code",
   "execution_count": 1,
   "metadata": {},
   "outputs": [],
   "source": [
    "import numpy as np # linear algebra\n",
    "import pandas as pd # data processing, CSV file I/O (e.g. pd.read_csv)\n",
    "from pandas.plotting import scatter_matrix\n",
    "import matplotlib.pyplot as plt\n",
    "import seaborn as sns\n",
    "from sklearn import model_selection\n",
    "from sklearn.tree import DecisionTreeClassifier\n",
    "from sklearn.neighbors import KNeighborsClassifier\n",
    "from sklearn.discriminant_analysis import LinearDiscriminantAnalysis\n",
    "from sklearn.naive_bayes import GaussianNB\n",
    "from sklearn.svm import SVC\n",
    "from sklearn import svm\n",
    "from sklearn import metrics\n",
    "import datetime\n",
    "from sklearn.ensemble import ExtraTreesRegressor\n"
   ]
  },
  {
   "cell_type": "code",
   "execution_count": 2,
   "metadata": {},
   "outputs": [],
   "source": [
    "#function to load the datasets\n",
    "#C:\\\\Pri doc\\\\priti\\\\Projects\\\\Myproject\\\\Berkely\\\\class project3\\\\sample project\\\\data\n",
    "def prodata():\n",
    "    train = pd.read_csv('C:\\\\Pri doc\\\\priti\\\\Projects\\\\Myproject\\\\Berkely\\\\class project3\\\\sample project\\\\data\\\\train.csv')\n",
    "    feature = pd.read_csv('C:\\\\Pri doc\\\\priti\\\\Projects\\\\Myproject\\\\Berkely\\\\class project3\\\\sample project\\\\data\\\\features.csv')\n",
    "    test = pd.read_csv('C:\\\\Pri doc\\\\priti\\\\Projects\\\\Myproject\\\\Berkely\\\\class project3\\\\sample project\\\\data\\\\test.csv')\n",
    "    feature = del_unemployment(feature)\n",
    "    train = del_train_markdown(train)\n",
    "    return (train,test,feature)\n"
   ]
  },
  {
   "cell_type": "code",
   "execution_count": 3,
   "metadata": {},
   "outputs": [],
   "source": [
    "#divide the markdowns into different groups\n",
    "def del_lack_markdown(feature):\n",
    "    a = pd.notnull(feature.MarkDown1)\n",
    "    b = pd.notnull(feature.MarkDown2)\n",
    "    c = pd.notnull(feature.MarkDown3)\n",
    "    d = pd.notnull(feature.MarkDown4)\n",
    "    e = pd.notnull(feature.MarkDown5)\n",
    "    train = feature[a|b|c|d|e]\n",
    "    feature = feature[feature.Date >= '2011-11-04']\n",
    "    return feature\n"
   ]
  },
  {
   "cell_type": "code",
   "execution_count": 4,
   "metadata": {},
   "outputs": [],
   "source": [
    "#function to store the features column values\n",
    "def del_unemployment(feature):\n",
    "    feature = feature[['Store','Date','Temperature','Fuel_Price','MarkDown1','MarkDown2','MarkDown3','MarkDown4','MarkDown5','IsHoliday']]\n",
    "    return feature\n",
    "\n",
    "#function to store required date data\n",
    "def del_train_markdown(train):\n",
    "    train = train[train.Date >= '2011-11-11']\n",
    "    return train\n"
   ]
  },
  {
   "cell_type": "code",
   "execution_count": 5,
   "metadata": {},
   "outputs": [],
   "source": [
    "#logic to handle holiday wrt sales\n",
    "def combi_train_feature(train,test,feature,markdown):\n",
    "    train = np.array(train)\n",
    "    test = np.array(test)\n",
    "    feature = np.array(feature)\n",
    "    train_x,train_y,test_x,dates=[],[],[],[]\n",
    "    j=0\n",
    "    for i in range(len(train)):\n",
    "        train_x.append([])\n",
    "        store,dept,date,sales,isholiday = train[i]\n",
    "        f = find_from_feature(store,date,feature,markdown)\n",
    "        train_y.append(sales)\n",
    "        train_x[j] =list(f)\n",
    "        temp = date.split('-')\n",
    "        y,m,d =int(temp[0]),int(temp[1]),int(temp[2])\n",
    "        ymd = datetime.date(y,m,d)\n",
    "        week = datetime.timedelta(days=7)\n",
    "        preweek = ymd-week\n",
    "        preweek = str(preweek)\n",
    "        pre2week = ymd-week-week\n",
    "        pre2week = str(pre2week)\n",
    "        nextweek = ymd+week\n",
    "        nextweek = str(nextweek)\n",
    "        next2week = ymd+week+week\n",
    "        next2week = str(next2week)\n",
    "        preweek = get_holiday_feature(preweek)\n",
    "        pre2week = get_holiday_feature(pre2week)\n",
    "        thisweek = get_holiday_feature(date)\n",
    "        nextweek = get_holiday_feature(nextweek)\n",
    "        next2week = get_holiday_feature(next2week)\n",
    "        train_x[j] =train_x[j]+preweek+thisweek+nextweek+pre2week+next2week\n",
    "        j += 1\n",
    "    j = 0\n",
    "    for i in range(len(test)):\n",
    "        test_x.append([])\n",
    "        store,dept,date,isholiday = test[i]\n",
    "        f = find_from_feature(store,date,feature,markdown)\n",
    "        test_x[j] = list(f)\n",
    "        temp = date.split('-')\n",
    "        y,m,d = int(temp[0]),int(temp[1]),int(temp[2])\n",
    "        ymd = datetime.date(y,m,d)\n",
    "        week = datetime.timedelta(days=7)\n",
    "        preweek = ymd-week\n",
    "        preweek = str(preweek)\n",
    "        nextweek = ymd+week\n",
    "        nextweek = str(nextweek)\n",
    "        preweek = get_holiday_feature(preweek)\n",
    "        thisweek = get_holiday_feature(date)\n",
    "        nextweek = get_holiday_feature(nextweek)\n",
    "        pre2week = ymd-week-week\n",
    "        pre2week = str(pre2week)\n",
    "        next2week = ymd+week+week\n",
    "        next2week = str(next2week)\n",
    "        pre2week = get_holiday_feature(pre2week)\n",
    "        next2week = get_holiday_feature(next2week)\n",
    "        test_x[j] =test_x[j]+ preweek+thisweek+nextweek+pre2week+next2week\n",
    "        dates.append(date)\n",
    "        j += 1\n",
    "    return (train_x,train_y,test_x,dates)\n"
   ]
  },
  {
   "cell_type": "code",
   "execution_count": 6,
   "metadata": {},
   "outputs": [],
   "source": [
    "#logic to handle holiday wrt sales\n",
    "def find_from_feature(store,date,feature,markdown):\n",
    "    for i in range(len(feature)):\n",
    "        if feature[i][0] == store and feature[i][1] == date:\n",
    "            for j in range(4,9):\n",
    "                if pd.isnull(feature[i][j]):\n",
    "                    feature[i][j] = markdown[j-4]\n",
    "            return feature[i][2:-1]"
   ]
  },
  {
   "cell_type": "code",
   "execution_count": 7,
   "metadata": {},
   "outputs": [],
   "source": [
    "#model the datasets\n",
    "def linear_model(train_x,train_y,test_x):\n",
    "    clf = LinearRegression()\n",
    "    clf.fit(train_x,train_y)\n",
    "    test_y = clf.predict(test_x)\n",
    "    return test_y"
   ]
  },
  {
   "cell_type": "code",
   "execution_count": 8,
   "metadata": {},
   "outputs": [],
   "source": [
    "def knn_model(train_x,train_y,test_x,k):\n",
    "    clf = ExtraTreesRegressor(n_estimators=200,max_features='log2')\n",
    "    clf.fit(train_x,train_y)\n",
    "    test_y = clf.predict(test_x)\n",
    "    return test_y"
   ]
  },
  {
   "cell_type": "code",
   "execution_count": 9,
   "metadata": {},
   "outputs": [],
   "source": [
    "#handle missing values\n",
    "def nan_rep(trains):\n",
    "    md = []\n",
    "    md.append(list(trains.MarkDown1))\n",
    "    md.append(list(trains.MarkDown2))\n",
    "    md.append(list(trains.MarkDown3))\n",
    "    md.append(list(trains.MarkDown4))\n",
    "    md.append(list(trains.MarkDown5))\n",
    "    result = []\n",
    "    for m in md:\n",
    "        temp = np.array([i for i in m if pd.notnull(i)])\n",
    "        result.append(temp.mean())\n",
    "    return result"
   ]
  },
  {
   "cell_type": "code",
   "execution_count": 10,
   "metadata": {},
   "outputs": [],
   "source": [
    "#handle holidays\n",
    "def get_holiday_feature(date):\n",
    "    super_bowl = ['2010-02-12','2011-02-11','2012-02-10','2013-02-08']\n",
    "    labor = ['2010-09-10','2011-09-09','2012-09-07','2013-09-06']\n",
    "    thx = ['2010-11-26','2011-11-25','2012-11-23','2013-11-29']\n",
    "    chris = ['2010-12-31','2011-12-30','2012-12-28','2013-12-27']\n",
    "    if date in super_bowl:\n",
    "        return [0,0,0,1]\n",
    "    elif date in labor:\n",
    "        return [0,0,1,0]\n",
    "    elif date in thx:\n",
    "        return [0,1,0,0]\n",
    "    elif date in chris:\n",
    "        return [1,0,0,0]\n",
    "    else:\n",
    "        return [0,0,0,0]"
   ]
  },
  {
   "cell_type": "code",
   "execution_count": 11,
   "metadata": {},
   "outputs": [
    {
     "ename": "FileNotFoundError",
     "evalue": "File b'C:\\\\Pri doc\\\\priti\\\\Projects\\\\Myproject\\\\Berkely\\\\class project3\\\\sample project\\\\data\\\\train.csv' does not exist",
     "output_type": "error",
     "traceback": [
      "\u001b[1;31m---------------------------------------------------------------------------\u001b[0m",
      "\u001b[1;31mFileNotFoundError\u001b[0m                         Traceback (most recent call last)",
      "\u001b[1;32m<ipython-input-11-b0cda75f5150>\u001b[0m in \u001b[0;36m<module>\u001b[1;34m()\u001b[0m\n\u001b[0;32m     11\u001b[0m     \u001b[0mf\u001b[0m\u001b[1;33m.\u001b[0m\u001b[0mwrite\u001b[0m\u001b[1;33m(\u001b[0m\u001b[1;34m'Id,Weekly_Sales\\n'\u001b[0m\u001b[1;33m)\u001b[0m\u001b[1;33m\u001b[0m\u001b[0m\n\u001b[0;32m     12\u001b[0m     \u001b[0mf\u001b[0m\u001b[1;33m.\u001b[0m\u001b[0mclose\u001b[0m\u001b[1;33m(\u001b[0m\u001b[1;33m)\u001b[0m\u001b[1;33m\u001b[0m\u001b[0m\n\u001b[1;32m---> 13\u001b[1;33m     \u001b[0mtrain\u001b[0m\u001b[1;33m,\u001b[0m\u001b[0mtest\u001b[0m\u001b[1;33m,\u001b[0m\u001b[0mfeature\u001b[0m \u001b[1;33m=\u001b[0m \u001b[0mprodata\u001b[0m\u001b[1;33m(\u001b[0m\u001b[1;33m)\u001b[0m\u001b[1;33m\u001b[0m\u001b[0m\n\u001b[0m\u001b[0;32m     14\u001b[0m     \u001b[1;32mfor\u001b[0m \u001b[0mi\u001b[0m \u001b[1;32min\u001b[0m \u001b[0mrange\u001b[0m\u001b[1;33m(\u001b[0m\u001b[1;36m1\u001b[0m\u001b[1;33m,\u001b[0m\u001b[1;36m46\u001b[0m\u001b[1;33m)\u001b[0m\u001b[1;33m:\u001b[0m\u001b[1;33m\u001b[0m\u001b[0m\n\u001b[0;32m     15\u001b[0m         \u001b[0mtraindata\u001b[0m \u001b[1;33m=\u001b[0m \u001b[0mtrain\u001b[0m\u001b[1;33m[\u001b[0m\u001b[0mtrain\u001b[0m\u001b[1;33m.\u001b[0m\u001b[0mStore\u001b[0m \u001b[1;33m==\u001b[0m \u001b[0mi\u001b[0m\u001b[1;33m]\u001b[0m\u001b[1;33m\u001b[0m\u001b[0m\n",
      "\u001b[1;32m<ipython-input-2-0c9e62506bdf>\u001b[0m in \u001b[0;36mprodata\u001b[1;34m()\u001b[0m\n\u001b[0;32m      2\u001b[0m \u001b[1;31m#C:\\\\Pri doc\\\\priti\\\\Projects\\\\Myproject\\\\Berkely\\\\class project3\\\\sample project\\\\data\u001b[0m\u001b[1;33m\u001b[0m\u001b[1;33m\u001b[0m\u001b[0m\n\u001b[0;32m      3\u001b[0m \u001b[1;32mdef\u001b[0m \u001b[0mprodata\u001b[0m\u001b[1;33m(\u001b[0m\u001b[1;33m)\u001b[0m\u001b[1;33m:\u001b[0m\u001b[1;33m\u001b[0m\u001b[0m\n\u001b[1;32m----> 4\u001b[1;33m     \u001b[0mtrain\u001b[0m \u001b[1;33m=\u001b[0m \u001b[0mpd\u001b[0m\u001b[1;33m.\u001b[0m\u001b[0mread_csv\u001b[0m\u001b[1;33m(\u001b[0m\u001b[1;34m'C:\\\\Pri doc\\\\priti\\\\Projects\\\\Myproject\\\\Berkely\\\\class project3\\\\sample project\\\\data\\\\train.csv'\u001b[0m\u001b[1;33m)\u001b[0m\u001b[1;33m\u001b[0m\u001b[0m\n\u001b[0m\u001b[0;32m      5\u001b[0m     \u001b[0mfeature\u001b[0m \u001b[1;33m=\u001b[0m \u001b[0mpd\u001b[0m\u001b[1;33m.\u001b[0m\u001b[0mread_csv\u001b[0m\u001b[1;33m(\u001b[0m\u001b[1;34m'C:\\\\Pri doc\\\\priti\\\\Projects\\\\Myproject\\\\Berkely\\\\class project3\\\\sample project\\\\data\\\\features.csv'\u001b[0m\u001b[1;33m)\u001b[0m\u001b[1;33m\u001b[0m\u001b[0m\n\u001b[0;32m      6\u001b[0m     \u001b[0mtest\u001b[0m \u001b[1;33m=\u001b[0m \u001b[0mpd\u001b[0m\u001b[1;33m.\u001b[0m\u001b[0mread_csv\u001b[0m\u001b[1;33m(\u001b[0m\u001b[1;34m'C:\\\\Pri doc\\\\priti\\\\Projects\\\\Myproject\\\\Berkely\\\\class project3\\\\sample project\\\\data\\\\test.csv'\u001b[0m\u001b[1;33m)\u001b[0m\u001b[1;33m\u001b[0m\u001b[0m\n",
      "\u001b[1;32mc:\\users\\bea\\appdata\\local\\continuum\\anaconda3\\envs\\pythondata\\lib\\site-packages\\pandas\\io\\parsers.py\u001b[0m in \u001b[0;36mparser_f\u001b[1;34m(filepath_or_buffer, sep, delimiter, header, names, index_col, usecols, squeeze, prefix, mangle_dupe_cols, dtype, engine, converters, true_values, false_values, skipinitialspace, skiprows, nrows, na_values, keep_default_na, na_filter, verbose, skip_blank_lines, parse_dates, infer_datetime_format, keep_date_col, date_parser, dayfirst, iterator, chunksize, compression, thousands, decimal, lineterminator, quotechar, quoting, escapechar, comment, encoding, dialect, tupleize_cols, error_bad_lines, warn_bad_lines, skipfooter, skip_footer, doublequote, delim_whitespace, as_recarray, compact_ints, use_unsigned, low_memory, buffer_lines, memory_map, float_precision)\u001b[0m\n\u001b[0;32m    707\u001b[0m                     skip_blank_lines=skip_blank_lines)\n\u001b[0;32m    708\u001b[0m \u001b[1;33m\u001b[0m\u001b[0m\n\u001b[1;32m--> 709\u001b[1;33m         \u001b[1;32mreturn\u001b[0m \u001b[0m_read\u001b[0m\u001b[1;33m(\u001b[0m\u001b[0mfilepath_or_buffer\u001b[0m\u001b[1;33m,\u001b[0m \u001b[0mkwds\u001b[0m\u001b[1;33m)\u001b[0m\u001b[1;33m\u001b[0m\u001b[0m\n\u001b[0m\u001b[0;32m    710\u001b[0m \u001b[1;33m\u001b[0m\u001b[0m\n\u001b[0;32m    711\u001b[0m     \u001b[0mparser_f\u001b[0m\u001b[1;33m.\u001b[0m\u001b[0m__name__\u001b[0m \u001b[1;33m=\u001b[0m \u001b[0mname\u001b[0m\u001b[1;33m\u001b[0m\u001b[0m\n",
      "\u001b[1;32mc:\\users\\bea\\appdata\\local\\continuum\\anaconda3\\envs\\pythondata\\lib\\site-packages\\pandas\\io\\parsers.py\u001b[0m in \u001b[0;36m_read\u001b[1;34m(filepath_or_buffer, kwds)\u001b[0m\n\u001b[0;32m    447\u001b[0m \u001b[1;33m\u001b[0m\u001b[0m\n\u001b[0;32m    448\u001b[0m     \u001b[1;31m# Create the parser.\u001b[0m\u001b[1;33m\u001b[0m\u001b[1;33m\u001b[0m\u001b[0m\n\u001b[1;32m--> 449\u001b[1;33m     \u001b[0mparser\u001b[0m \u001b[1;33m=\u001b[0m \u001b[0mTextFileReader\u001b[0m\u001b[1;33m(\u001b[0m\u001b[0mfilepath_or_buffer\u001b[0m\u001b[1;33m,\u001b[0m \u001b[1;33m**\u001b[0m\u001b[0mkwds\u001b[0m\u001b[1;33m)\u001b[0m\u001b[1;33m\u001b[0m\u001b[0m\n\u001b[0m\u001b[0;32m    450\u001b[0m \u001b[1;33m\u001b[0m\u001b[0m\n\u001b[0;32m    451\u001b[0m     \u001b[1;32mif\u001b[0m \u001b[0mchunksize\u001b[0m \u001b[1;32mor\u001b[0m \u001b[0miterator\u001b[0m\u001b[1;33m:\u001b[0m\u001b[1;33m\u001b[0m\u001b[0m\n",
      "\u001b[1;32mc:\\users\\bea\\appdata\\local\\continuum\\anaconda3\\envs\\pythondata\\lib\\site-packages\\pandas\\io\\parsers.py\u001b[0m in \u001b[0;36m__init__\u001b[1;34m(self, f, engine, **kwds)\u001b[0m\n\u001b[0;32m    816\u001b[0m             \u001b[0mself\u001b[0m\u001b[1;33m.\u001b[0m\u001b[0moptions\u001b[0m\u001b[1;33m[\u001b[0m\u001b[1;34m'has_index_names'\u001b[0m\u001b[1;33m]\u001b[0m \u001b[1;33m=\u001b[0m \u001b[0mkwds\u001b[0m\u001b[1;33m[\u001b[0m\u001b[1;34m'has_index_names'\u001b[0m\u001b[1;33m]\u001b[0m\u001b[1;33m\u001b[0m\u001b[0m\n\u001b[0;32m    817\u001b[0m \u001b[1;33m\u001b[0m\u001b[0m\n\u001b[1;32m--> 818\u001b[1;33m         \u001b[0mself\u001b[0m\u001b[1;33m.\u001b[0m\u001b[0m_make_engine\u001b[0m\u001b[1;33m(\u001b[0m\u001b[0mself\u001b[0m\u001b[1;33m.\u001b[0m\u001b[0mengine\u001b[0m\u001b[1;33m)\u001b[0m\u001b[1;33m\u001b[0m\u001b[0m\n\u001b[0m\u001b[0;32m    819\u001b[0m \u001b[1;33m\u001b[0m\u001b[0m\n\u001b[0;32m    820\u001b[0m     \u001b[1;32mdef\u001b[0m \u001b[0mclose\u001b[0m\u001b[1;33m(\u001b[0m\u001b[0mself\u001b[0m\u001b[1;33m)\u001b[0m\u001b[1;33m:\u001b[0m\u001b[1;33m\u001b[0m\u001b[0m\n",
      "\u001b[1;32mc:\\users\\bea\\appdata\\local\\continuum\\anaconda3\\envs\\pythondata\\lib\\site-packages\\pandas\\io\\parsers.py\u001b[0m in \u001b[0;36m_make_engine\u001b[1;34m(self, engine)\u001b[0m\n\u001b[0;32m   1047\u001b[0m     \u001b[1;32mdef\u001b[0m \u001b[0m_make_engine\u001b[0m\u001b[1;33m(\u001b[0m\u001b[0mself\u001b[0m\u001b[1;33m,\u001b[0m \u001b[0mengine\u001b[0m\u001b[1;33m=\u001b[0m\u001b[1;34m'c'\u001b[0m\u001b[1;33m)\u001b[0m\u001b[1;33m:\u001b[0m\u001b[1;33m\u001b[0m\u001b[0m\n\u001b[0;32m   1048\u001b[0m         \u001b[1;32mif\u001b[0m \u001b[0mengine\u001b[0m \u001b[1;33m==\u001b[0m \u001b[1;34m'c'\u001b[0m\u001b[1;33m:\u001b[0m\u001b[1;33m\u001b[0m\u001b[0m\n\u001b[1;32m-> 1049\u001b[1;33m             \u001b[0mself\u001b[0m\u001b[1;33m.\u001b[0m\u001b[0m_engine\u001b[0m \u001b[1;33m=\u001b[0m \u001b[0mCParserWrapper\u001b[0m\u001b[1;33m(\u001b[0m\u001b[0mself\u001b[0m\u001b[1;33m.\u001b[0m\u001b[0mf\u001b[0m\u001b[1;33m,\u001b[0m \u001b[1;33m**\u001b[0m\u001b[0mself\u001b[0m\u001b[1;33m.\u001b[0m\u001b[0moptions\u001b[0m\u001b[1;33m)\u001b[0m\u001b[1;33m\u001b[0m\u001b[0m\n\u001b[0m\u001b[0;32m   1050\u001b[0m         \u001b[1;32melse\u001b[0m\u001b[1;33m:\u001b[0m\u001b[1;33m\u001b[0m\u001b[0m\n\u001b[0;32m   1051\u001b[0m             \u001b[1;32mif\u001b[0m \u001b[0mengine\u001b[0m \u001b[1;33m==\u001b[0m \u001b[1;34m'python'\u001b[0m\u001b[1;33m:\u001b[0m\u001b[1;33m\u001b[0m\u001b[0m\n",
      "\u001b[1;32mc:\\users\\bea\\appdata\\local\\continuum\\anaconda3\\envs\\pythondata\\lib\\site-packages\\pandas\\io\\parsers.py\u001b[0m in \u001b[0;36m__init__\u001b[1;34m(self, src, **kwds)\u001b[0m\n\u001b[0;32m   1693\u001b[0m         \u001b[0mkwds\u001b[0m\u001b[1;33m[\u001b[0m\u001b[1;34m'allow_leading_cols'\u001b[0m\u001b[1;33m]\u001b[0m \u001b[1;33m=\u001b[0m \u001b[0mself\u001b[0m\u001b[1;33m.\u001b[0m\u001b[0mindex_col\u001b[0m \u001b[1;32mis\u001b[0m \u001b[1;32mnot\u001b[0m \u001b[1;32mFalse\u001b[0m\u001b[1;33m\u001b[0m\u001b[0m\n\u001b[0;32m   1694\u001b[0m \u001b[1;33m\u001b[0m\u001b[0m\n\u001b[1;32m-> 1695\u001b[1;33m         \u001b[0mself\u001b[0m\u001b[1;33m.\u001b[0m\u001b[0m_reader\u001b[0m \u001b[1;33m=\u001b[0m \u001b[0mparsers\u001b[0m\u001b[1;33m.\u001b[0m\u001b[0mTextReader\u001b[0m\u001b[1;33m(\u001b[0m\u001b[0msrc\u001b[0m\u001b[1;33m,\u001b[0m \u001b[1;33m**\u001b[0m\u001b[0mkwds\u001b[0m\u001b[1;33m)\u001b[0m\u001b[1;33m\u001b[0m\u001b[0m\n\u001b[0m\u001b[0;32m   1696\u001b[0m \u001b[1;33m\u001b[0m\u001b[0m\n\u001b[0;32m   1697\u001b[0m         \u001b[1;31m# XXX\u001b[0m\u001b[1;33m\u001b[0m\u001b[1;33m\u001b[0m\u001b[0m\n",
      "\u001b[1;32mpandas\\_libs\\parsers.pyx\u001b[0m in \u001b[0;36mpandas._libs.parsers.TextReader.__cinit__\u001b[1;34m()\u001b[0m\n",
      "\u001b[1;32mpandas\\_libs\\parsers.pyx\u001b[0m in \u001b[0;36mpandas._libs.parsers.TextReader._setup_parser_source\u001b[1;34m()\u001b[0m\n",
      "\u001b[1;31mFileNotFoundError\u001b[0m: File b'C:\\\\Pri doc\\\\priti\\\\Projects\\\\Myproject\\\\Berkely\\\\class project3\\\\sample project\\\\data\\\\train.csv' does not exist"
     ]
    }
   ],
   "source": [
    "#save the output\n",
    "def write(y,store,dept,dates):\n",
    "    f = open('result.csv','a')\n",
    "    for i in range(len(y)):\n",
    "        Id = str(store)+'_'+str(dept)+'_'+str(dates[i])\n",
    "        sales = y[i]\n",
    "        f.write('%s,%s\\n'%(Id,sales))\n",
    "    f.close()\n",
    "if __name__==\"__main__\":\n",
    "    f = open('result.csv','w')\n",
    "    f.write('Id,Weekly_Sales\\n')\n",
    "    f.close()\n",
    "    train,test,feature = prodata()\n",
    "    for i in range(1,46):\n",
    "        traindata = train[train.Store == i]\n",
    "        testdata = test[test.Store == i]\n",
    "        featuredata = feature[feature.Store == i]\n",
    "        dept_train = list(set(traindata.Dept.values))\n",
    "        dept_test = list(set(testdata.Dept.values))\n",
    "        for dept in dept_test:\n",
    "            if dept not in dept_train:\n",
    "                print(i,dept)\n",
    "                tests = testdata[testdata.Dept == dept]\n",
    "                dates = list(tests.Date)\n",
    "                y=[0 for j in range(len(tests))]\n",
    "                write(y,i,dept,dates)\n",
    "        \n",
    "        for dept in dept_train:\n",
    "            trains = traindata[traindata.Dept == dept]\n",
    "            tests = testdata[testdata.Dept == dept]\n",
    "            markdown = nan_rep(featuredata)\n",
    "            print('store=',i,' and dept ',dept)\n",
    "            train_x,train_y,test_x,dates = combi_train_feature(trains,tests,featuredata,markdown)\n",
    "            k = 3\n",
    "            if len(test_x) > 0:\n",
    "                if len(train_x) <k:\n",
    "                    test_y = knn_model(train_x,train_y,test_x,len(train_x))\n",
    "                    write(test_y,i,dept,dates)\n",
    "                else:\n",
    "                    test_y = knn_model(train_x,train_y,test_x,k)\n",
    "                    write(test_y,i,dept,dates)"
   ]
  },
  {
   "cell_type": "code",
   "execution_count": null,
   "metadata": {
    "collapsed": true
   },
   "outputs": [],
   "source": []
  }
 ],
 "metadata": {
  "kernelspec": {
   "display_name": "Python 3",
   "language": "python",
   "name": "python3"
  },
  "language_info": {
   "codemirror_mode": {
    "name": "ipython",
    "version": 3
   },
   "file_extension": ".py",
   "mimetype": "text/x-python",
   "name": "python",
   "nbconvert_exporter": "python",
   "pygments_lexer": "ipython3",
   "version": "3.6.4"
  }
 },
 "nbformat": 4,
 "nbformat_minor": 2
}
