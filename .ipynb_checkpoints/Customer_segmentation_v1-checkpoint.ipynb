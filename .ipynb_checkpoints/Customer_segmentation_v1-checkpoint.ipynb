{
 "cells": [
  {
   "cell_type": "markdown",
   "metadata": {},
   "source": [
    "# Customer Segmentation\n"
   ]
  },
  {
   "cell_type": "code",
   "execution_count": null,
   "metadata": {},
   "outputs": [],
   "source": [
    "# General Dependencies\n",
    "\n",
    "import numpy as np\n",
    "import pandas as pd\n",
    "import matplotlib as mpl\n",
    "\n",
    "# Visualizations\n",
    "\n",
    "%matplotlib inline\n",
    "import matplotlib.pyplot as plt\n",
    "import matplotlib as mpl\n",
    "import seaborn as sns\n",
    "\n",
    "# Warnings\n",
    "import warnings\n",
    "warnings.filterwarnings('ignore')"
   ]
  },
  {
   "cell_type": "markdown",
   "metadata": {},
   "source": [
    "### Step 1 - Data Engineering"
   ]
  },
  {
   "cell_type": "code",
   "execution_count": null,
   "metadata": {},
   "outputs": [],
   "source": [
    "# Read the data\n",
    "df_origdata = pd.read_csv('data/Project_Sales_Data_Clean.csv',encoding=\"ISO-8859-1\")\n",
    "print('Dataframe dimensions:', df_origdata.shape)"
   ]
  },
  {
   "cell_type": "code",
   "execution_count": null,
   "metadata": {},
   "outputs": [],
   "source": [
    "df_origdata.head(10)"
   ]
  },
  {
   "cell_type": "code",
   "execution_count": null,
   "metadata": {},
   "outputs": [],
   "source": [
    "def num_missing(x):\n",
    "  return sum(x.isnull())"
   ]
  },
  {
   "cell_type": "code",
   "execution_count": null,
   "metadata": {},
   "outputs": [],
   "source": [
    "# How many NAN values per column with have.\n",
    "\n",
    "# Applying per column:\n",
    "print (f\"Missing values per column in df_customers :\\n{df_origdata.apply(num_missing, axis=0)}\")\n",
    "\n",
    "duplicated = df_origdata.duplicated(subset=['Order ID', 'Customer ID', 'Customer Name', 'Age']).sum()\n",
    "print(f\"Total of duplicated values in df_customers : {duplicated} \")\n"
   ]
  },
  {
   "cell_type": "code",
   "execution_count": null,
   "metadata": {},
   "outputs": [],
   "source": [
    "print('Dataframe df_origdata dtypes:', df_origdata.dtypes)"
   ]
  },
  {
   "cell_type": "code",
   "execution_count": null,
   "metadata": {},
   "outputs": [],
   "source": [
    "# Removing columns not necessary for Customer Segmentation by Age\n",
    "list_cols_drop = ['Order Date', 'Customer Name', 'Sales Revenue', 'Cost of Goods', \n",
    "                  'Shipping Cost', 'Total Cost', 'Gross Profit', 'Markup Percentage']\n",
    "df_dropcols = df_origdata.drop(list_cols_drop, axis=1)\n",
    "\n",
    "# Show first lines\n",
    "df_dropcols.head(5)"
   ]
  },
  {
   "cell_type": "code",
   "execution_count": null,
   "metadata": {},
   "outputs": [],
   "source": [
    "# Total of orders, customers, products and cities\n",
    "\n",
    "pd.DataFrame([{'orders': len(df_dropcols['Order ID'].value_counts()),    \n",
    "               'customers': len(df_dropcols['Customer ID'].value_counts()),\n",
    "               'products': len(df_dropcols['Product Name'].value_counts()), \n",
    "               'cities' : len(df_dropcols.City.unique())\n",
    "              }], columns = ['orders', 'customers', 'products','cities'], index = ['quantity'])"
   ]
  },
  {
   "cell_type": "code",
   "execution_count": null,
   "metadata": {},
   "outputs": [],
   "source": [
    "df_dropcols.columns\n",
    "df_dropcols = df_dropcols.rename(columns={'Quantity ': 'Quantity'})\n",
    "df_dropcols.sort_values('Customer ID', inplace=True)\n",
    "df_dropcols.head(10)"
   ]
  },
  {
   "cell_type": "code",
   "execution_count": null,
   "metadata": {},
   "outputs": [],
   "source": [
    "# Get List of customers, how many orders per customer, how much products they buy\n",
    "\n",
    "list_customers = df_dropcols['Customer ID'].unique()\n",
    "total_orders_customer = df_dropcols.groupby(['Customer ID'])['Order ID'].count()\n",
    "total_buy_customers = df_dropcols.groupby(['Customer ID'])['Quantity'].sum()"
   ]
  },
  {
   "cell_type": "code",
   "execution_count": null,
   "metadata": {},
   "outputs": [],
   "source": [
    "df_customers = pd.DataFrame()\n",
    "df_customers['Customer ID'] = pd.Series(list_customers).values\n",
    "df_customers['Total Orders'] = pd.Series(total_orders_customer).values\n",
    "df_customers['Total Buy Prod'] = pd.Series(total_buy_customers).values\n"
   ]
  },
  {
   "cell_type": "code",
   "execution_count": null,
   "metadata": {},
   "outputs": [],
   "source": []
  },
  {
   "cell_type": "code",
   "execution_count": null,
   "metadata": {
    "scrolled": true
   },
   "outputs": [],
   "source": []
  },
  {
   "cell_type": "code",
   "execution_count": null,
   "metadata": {},
   "outputs": [],
   "source": []
  },
  {
   "cell_type": "code",
   "execution_count": null,
   "metadata": {},
   "outputs": [],
   "source": []
  },
  {
   "cell_type": "code",
   "execution_count": null,
   "metadata": {},
   "outputs": [],
   "source": []
  },
  {
   "cell_type": "code",
   "execution_count": null,
   "metadata": {},
   "outputs": [],
   "source": []
  },
  {
   "cell_type": "code",
   "execution_count": null,
   "metadata": {},
   "outputs": [],
   "source": []
  }
 ],
 "metadata": {
  "kernelspec": {
   "display_name": "Python 3",
   "language": "python",
   "name": "python3"
  },
  "language_info": {
   "codemirror_mode": {
    "name": "ipython",
    "version": 3
   },
   "file_extension": ".py",
   "mimetype": "text/x-python",
   "name": "python",
   "nbconvert_exporter": "python",
   "pygments_lexer": "ipython3",
   "version": "3.6.4"
  }
 },
 "nbformat": 4,
 "nbformat_minor": 2
}
