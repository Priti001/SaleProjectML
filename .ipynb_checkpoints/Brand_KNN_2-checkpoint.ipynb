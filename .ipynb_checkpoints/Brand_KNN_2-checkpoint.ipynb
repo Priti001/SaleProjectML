{
 "cells": [
  {
   "cell_type": "code",
   "execution_count": 1,
   "metadata": {},
   "outputs": [
    {
     "name": "stdout",
     "output_type": "stream",
     "text": [
      "Populating the interactive namespace from numpy and matplotlib\n"
     ]
    }
   ],
   "source": [
    "# General Dependencies\n",
    "\n",
    "import numpy as np\n",
    "import pandas as pd\n",
    "import matplotlib as mpl\n",
    "import pylab as pl\n",
    "\n",
    "# Visualizations\n",
    "\n",
    "import matplotlib.pyplot as plt\n",
    "import matplotlib as mpl\n",
    "import seaborn as sns\n",
    "import scipy.stats as stats\n",
    "import seaborn as sns\n",
    "from matplotlib import rcParams\n",
    "\n",
    "\n",
    "%matplotlib inline \n",
    "%pylab inline \n",
    "\n",
    "# Warnings\n",
    "import warnings\n",
    "warnings.filterwarnings('ignore')\n",
    "\n",
    "from sklearn.cluster import KMeans\n",
    "import sklearn\n",
    "from sklearn import cluster\n",
    "#from copy import deepcopy\n"
   ]
  },
  {
   "cell_type": "code",
   "execution_count": 2,
   "metadata": {},
   "outputs": [
    {
     "name": "stdout",
     "output_type": "stream",
     "text": [
      "Dataframe dimensions: (1778, 19)\n"
     ]
    }
   ],
   "source": [
    "# Read the data\n",
    "df_data = pd.read_csv('data/data_ready.csv')\n",
    "print('Dataframe dimensions:', df_data.shape)"
   ]
  },
  {
   "cell_type": "code",
   "execution_count": 3,
   "metadata": {},
   "outputs": [
    {
     "name": "stdout",
     "output_type": "stream",
     "text": [
      "Dataframe dimensions: (1778, 19)\n"
     ]
    }
   ],
   "source": [
    "df_data = df_data.dropna(how='all')\n",
    "print('Dataframe dimensions:', df_data.shape)"
   ]
  },
  {
   "cell_type": "code",
   "execution_count": 4,
   "metadata": {},
   "outputs": [
    {
     "data": {
      "text/html": [
       "<div>\n",
       "<style scoped>\n",
       "    .dataframe tbody tr th:only-of-type {\n",
       "        vertical-align: middle;\n",
       "    }\n",
       "\n",
       "    .dataframe tbody tr th {\n",
       "        vertical-align: top;\n",
       "    }\n",
       "\n",
       "    .dataframe thead th {\n",
       "        text-align: right;\n",
       "    }\n",
       "</style>\n",
       "<table border=\"1\" class=\"dataframe\">\n",
       "  <thead>\n",
       "    <tr style=\"text-align: right;\">\n",
       "      <th></th>\n",
       "      <th>Stock ID</th>\n",
       "      <th>Cost of Goods</th>\n",
       "      <th>Unit Price</th>\n",
       "      <th>Shipping Cost</th>\n",
       "      <th>Customer ID</th>\n",
       "      <th>Vendor</th>\n",
       "      <th>Order Status</th>\n",
       "      <th>Product Category</th>\n",
       "      <th>Brand</th>\n",
       "      <th>Product Description</th>\n",
       "      <th>Product Base Margin</th>\n",
       "      <th>Order Date</th>\n",
       "      <th>Profit</th>\n",
       "      <th>Quantity</th>\n",
       "      <th>Sales</th>\n",
       "      <th>Order ID</th>\n",
       "      <th>Day</th>\n",
       "      <th>Month</th>\n",
       "      <th>Year</th>\n",
       "    </tr>\n",
       "  </thead>\n",
       "  <tbody>\n",
       "    <tr>\n",
       "      <th>0</th>\n",
       "      <td>171003</td>\n",
       "      <td>76.0</td>\n",
       "      <td>99</td>\n",
       "      <td>15.0</td>\n",
       "      <td>VVIP1017</td>\n",
       "      <td>DIRECT</td>\n",
       "      <td>finished</td>\n",
       "      <td>Clothing</td>\n",
       "      <td>Madewell</td>\n",
       "      <td>Madewell Trevi Drapey Blazer Suit Black 2 Last...</td>\n",
       "      <td>8%</td>\n",
       "      <td>2017-01-17</td>\n",
       "      <td>8.0</td>\n",
       "      <td>1.0</td>\n",
       "      <td>99</td>\n",
       "      <td>2017013</td>\n",
       "      <td>17</td>\n",
       "      <td>1</td>\n",
       "      <td>2017</td>\n",
       "    </tr>\n",
       "    <tr>\n",
       "      <th>1</th>\n",
       "      <td>171004</td>\n",
       "      <td>87.0</td>\n",
       "      <td>120</td>\n",
       "      <td>22.5</td>\n",
       "      <td>L1631</td>\n",
       "      <td>DIRECT</td>\n",
       "      <td>finished</td>\n",
       "      <td>Shoes</td>\n",
       "      <td>UGG</td>\n",
       "      <td>UGG Australia – Joey Leather &amp; Genuine Shearli...</td>\n",
       "      <td>9%</td>\n",
       "      <td>2017-01-17</td>\n",
       "      <td>10.5</td>\n",
       "      <td>1.0</td>\n",
       "      <td>120</td>\n",
       "      <td>2017014</td>\n",
       "      <td>17</td>\n",
       "      <td>1</td>\n",
       "      <td>2017</td>\n",
       "    </tr>\n",
       "    <tr>\n",
       "      <th>2</th>\n",
       "      <td>171005</td>\n",
       "      <td>87.0</td>\n",
       "      <td>120</td>\n",
       "      <td>22.5</td>\n",
       "      <td>L1631</td>\n",
       "      <td>DIRECT</td>\n",
       "      <td>finished</td>\n",
       "      <td>Shoes</td>\n",
       "      <td>UGG</td>\n",
       "      <td>Ugg red short paragraph 7</td>\n",
       "      <td>9%</td>\n",
       "      <td>2017-01-17</td>\n",
       "      <td>10.5</td>\n",
       "      <td>1.0</td>\n",
       "      <td>120</td>\n",
       "      <td>2017015</td>\n",
       "      <td>17</td>\n",
       "      <td>1</td>\n",
       "      <td>2017</td>\n",
       "    </tr>\n",
       "    <tr>\n",
       "      <th>3</th>\n",
       "      <td>171006</td>\n",
       "      <td>113.0</td>\n",
       "      <td>193</td>\n",
       "      <td>15.0</td>\n",
       "      <td>H1270</td>\n",
       "      <td>DIRECT</td>\n",
       "      <td>finished</td>\n",
       "      <td>Clothing</td>\n",
       "      <td>Icebreaker</td>\n",
       "      <td>Set of icebreaker ladies zipper blouse grey s ...</td>\n",
       "      <td>34%</td>\n",
       "      <td>2017-01-17</td>\n",
       "      <td>65.0</td>\n",
       "      <td>1.0</td>\n",
       "      <td>193</td>\n",
       "      <td>2017016</td>\n",
       "      <td>17</td>\n",
       "      <td>1</td>\n",
       "      <td>2017</td>\n",
       "    </tr>\n",
       "    <tr>\n",
       "      <th>4</th>\n",
       "      <td>171007</td>\n",
       "      <td>33.0</td>\n",
       "      <td>107</td>\n",
       "      <td>15.0</td>\n",
       "      <td>L1609</td>\n",
       "      <td>DIRECT</td>\n",
       "      <td>finished</td>\n",
       "      <td>Clothing</td>\n",
       "      <td>Anthropologies</td>\n",
       "      <td>Anthropological powder purple sweater s</td>\n",
       "      <td>55%</td>\n",
       "      <td>2017-01-17</td>\n",
       "      <td>59.0</td>\n",
       "      <td>1.0</td>\n",
       "      <td>107</td>\n",
       "      <td>2017017</td>\n",
       "      <td>17</td>\n",
       "      <td>1</td>\n",
       "      <td>2017</td>\n",
       "    </tr>\n",
       "    <tr>\n",
       "      <th>5</th>\n",
       "      <td>171008</td>\n",
       "      <td>33.0</td>\n",
       "      <td>107</td>\n",
       "      <td>15.0</td>\n",
       "      <td>L1367</td>\n",
       "      <td>DIRECT</td>\n",
       "      <td>finished</td>\n",
       "      <td>Clothing</td>\n",
       "      <td>Anthropologies</td>\n",
       "      <td>Anthropological powder purple sweater m short ...</td>\n",
       "      <td>55%</td>\n",
       "      <td>2017-01-17</td>\n",
       "      <td>59.0</td>\n",
       "      <td>1.0</td>\n",
       "      <td>107</td>\n",
       "      <td>2017018</td>\n",
       "      <td>17</td>\n",
       "      <td>1</td>\n",
       "      <td>2017</td>\n",
       "    </tr>\n",
       "    <tr>\n",
       "      <th>6</th>\n",
       "      <td>171009</td>\n",
       "      <td>33.0</td>\n",
       "      <td>107</td>\n",
       "      <td>15.0</td>\n",
       "      <td>VVIP1017</td>\n",
       "      <td>DIRECT</td>\n",
       "      <td>finished</td>\n",
       "      <td>Clothing</td>\n",
       "      <td>Anthropologies</td>\n",
       "      <td>Anthropological powder purple sweater s</td>\n",
       "      <td>55%</td>\n",
       "      <td>2017-01-17</td>\n",
       "      <td>59.0</td>\n",
       "      <td>1.0</td>\n",
       "      <td>107</td>\n",
       "      <td>2017019</td>\n",
       "      <td>17</td>\n",
       "      <td>1</td>\n",
       "      <td>2017</td>\n",
       "    </tr>\n",
       "    <tr>\n",
       "      <th>7</th>\n",
       "      <td>171010</td>\n",
       "      <td>36.0</td>\n",
       "      <td>64</td>\n",
       "      <td>7.5</td>\n",
       "      <td>L1126</td>\n",
       "      <td>DIRECT</td>\n",
       "      <td>finished</td>\n",
       "      <td>Clothing</td>\n",
       "      <td>Tory Burch</td>\n",
       "      <td>Tory sports white top s number</td>\n",
       "      <td>32%</td>\n",
       "      <td>2017-01-17</td>\n",
       "      <td>20.5</td>\n",
       "      <td>1.0</td>\n",
       "      <td>64</td>\n",
       "      <td>20170110</td>\n",
       "      <td>17</td>\n",
       "      <td>1</td>\n",
       "      <td>2017</td>\n",
       "    </tr>\n",
       "    <tr>\n",
       "      <th>8</th>\n",
       "      <td>171011</td>\n",
       "      <td>33.0</td>\n",
       "      <td>107</td>\n",
       "      <td>15.0</td>\n",
       "      <td>L1288</td>\n",
       "      <td>DIRECT</td>\n",
       "      <td>finished</td>\n",
       "      <td>Clothing</td>\n",
       "      <td>Anthropologies</td>\n",
       "      <td>Anthropological powder purple sweater s</td>\n",
       "      <td>55%</td>\n",
       "      <td>2017-01-17</td>\n",
       "      <td>59.0</td>\n",
       "      <td>1.0</td>\n",
       "      <td>107</td>\n",
       "      <td>20170111</td>\n",
       "      <td>17</td>\n",
       "      <td>1</td>\n",
       "      <td>2017</td>\n",
       "    </tr>\n",
       "    <tr>\n",
       "      <th>9</th>\n",
       "      <td>171012</td>\n",
       "      <td>31.0</td>\n",
       "      <td>80</td>\n",
       "      <td>7.5</td>\n",
       "      <td>L1126</td>\n",
       "      <td>DIRECT</td>\n",
       "      <td>finished</td>\n",
       "      <td>Clothing</td>\n",
       "      <td>Scotch Soda</td>\n",
       "      <td>Scotch soda camel hat</td>\n",
       "      <td>52%</td>\n",
       "      <td>2017-01-17</td>\n",
       "      <td>41.5</td>\n",
       "      <td>1.0</td>\n",
       "      <td>80</td>\n",
       "      <td>20170112</td>\n",
       "      <td>17</td>\n",
       "      <td>1</td>\n",
       "      <td>2017</td>\n",
       "    </tr>\n",
       "  </tbody>\n",
       "</table>\n",
       "</div>"
      ],
      "text/plain": [
       "   Stock ID  Cost of Goods  Unit Price  Shipping Cost Customer ID  Vendor  \\\n",
       "0    171003           76.0          99           15.0    VVIP1017  DIRECT   \n",
       "1    171004           87.0         120           22.5       L1631  DIRECT   \n",
       "2    171005           87.0         120           22.5       L1631  DIRECT   \n",
       "3    171006          113.0         193           15.0       H1270  DIRECT   \n",
       "4    171007           33.0         107           15.0       L1609  DIRECT   \n",
       "5    171008           33.0         107           15.0       L1367  DIRECT   \n",
       "6    171009           33.0         107           15.0    VVIP1017  DIRECT   \n",
       "7    171010           36.0          64            7.5       L1126  DIRECT   \n",
       "8    171011           33.0         107           15.0       L1288  DIRECT   \n",
       "9    171012           31.0          80            7.5       L1126  DIRECT   \n",
       "\n",
       "  Order Status Product Category           Brand  \\\n",
       "0     finished         Clothing        Madewell   \n",
       "1     finished            Shoes             UGG   \n",
       "2     finished            Shoes             UGG   \n",
       "3     finished         Clothing      Icebreaker   \n",
       "4     finished         Clothing  Anthropologies   \n",
       "5     finished         Clothing  Anthropologies   \n",
       "6     finished         Clothing  Anthropologies   \n",
       "7     finished         Clothing      Tory Burch   \n",
       "8     finished         Clothing  Anthropologies   \n",
       "9     finished         Clothing     Scotch Soda   \n",
       "\n",
       "                                 Product Description Product Base Margin  \\\n",
       "0  Madewell Trevi Drapey Blazer Suit Black 2 Last...                  8%   \n",
       "1  UGG Australia – Joey Leather & Genuine Shearli...                  9%   \n",
       "2                          Ugg red short paragraph 7                  9%   \n",
       "3  Set of icebreaker ladies zipper blouse grey s ...                 34%   \n",
       "4            Anthropological powder purple sweater s                 55%   \n",
       "5  Anthropological powder purple sweater m short ...                 55%   \n",
       "6            Anthropological powder purple sweater s                 55%   \n",
       "7                     Tory sports white top s number                 32%   \n",
       "8            Anthropological powder purple sweater s                 55%   \n",
       "9                              Scotch soda camel hat                 52%   \n",
       "\n",
       "   Order Date  Profit  Quantity  Sales  Order ID  Day  Month  Year  \n",
       "0  2017-01-17     8.0       1.0     99   2017013   17      1  2017  \n",
       "1  2017-01-17    10.5       1.0    120   2017014   17      1  2017  \n",
       "2  2017-01-17    10.5       1.0    120   2017015   17      1  2017  \n",
       "3  2017-01-17    65.0       1.0    193   2017016   17      1  2017  \n",
       "4  2017-01-17    59.0       1.0    107   2017017   17      1  2017  \n",
       "5  2017-01-17    59.0       1.0    107   2017018   17      1  2017  \n",
       "6  2017-01-17    59.0       1.0    107   2017019   17      1  2017  \n",
       "7  2017-01-17    20.5       1.0     64  20170110   17      1  2017  \n",
       "8  2017-01-17    59.0       1.0    107  20170111   17      1  2017  \n",
       "9  2017-01-17    41.5       1.0     80  20170112   17      1  2017  "
      ]
     },
     "execution_count": 4,
     "metadata": {},
     "output_type": "execute_result"
    }
   ],
   "source": [
    "df_data.head(10)"
   ]
  },
  {
   "cell_type": "code",
   "execution_count": 5,
   "metadata": {},
   "outputs": [
    {
     "data": {
      "text/plain": [
       "Stock ID                 int64\n",
       "Cost of Goods          float64\n",
       "Unit Price               int64\n",
       "Shipping Cost          float64\n",
       "Customer ID             object\n",
       "Vendor                  object\n",
       "Order Status            object\n",
       "Product Category        object\n",
       "Brand                   object\n",
       "Product Description     object\n",
       "Product Base Margin     object\n",
       "Order Date              object\n",
       "Profit                 float64\n",
       "Quantity               float64\n",
       "Sales                    int64\n",
       "Order ID                object\n",
       "Day                      int64\n",
       "Month                    int64\n",
       "Year                     int64\n",
       "dtype: object"
      ]
     },
     "execution_count": 5,
     "metadata": {},
     "output_type": "execute_result"
    }
   ],
   "source": [
    "df_data.dtypes"
   ]
  },
  {
   "cell_type": "markdown",
   "metadata": {},
   "source": [
    "## Brand Analysis\n",
    "\n",
    "Let's check which brands are more profitable, and which brands Lei sells more."
   ]
  },
  {
   "cell_type": "code",
   "execution_count": 6,
   "metadata": {},
   "outputs": [],
   "source": [
    "df_orders_brand = df_data.groupby(by='Brand', as_index=False)['Order ID'].count()\n",
    "df_orders_brand.columns = ['Brand', 'NumOrders']\n",
    "\n",
    "df_total_cost = df_data.groupby(by='Brand', as_index=False)['Cost of Goods'].sum()\n",
    "df_total_cost.columns = ['Brand', 'TotalCost']\n",
    "\n",
    "df_total_price = df_data.groupby(by='Brand', as_index=False)['Unit Price'].sum()\n",
    "df_total_price.columns = ['Brand', 'TotalPrice']\n",
    "\n",
    "df_total_sales = df_data.groupby(by='Brand', as_index=False)['Sales'].sum()\n",
    "df_total_sales.columns = ['Brand', 'TotalSales']\n",
    "\n",
    "df_total_profit = df_data.groupby(by='Brand', as_index=False)['Profit'].sum()\n",
    "df_total_profit.columns = ['Brand', 'TotalProfit']\n",
    "\n",
    "df_total_qty = df_data.groupby(by='Brand', as_index=False)['Quantity'].sum()\n",
    "df_total_qty.columns = ['Brand', 'TotalQuantity']"
   ]
  },
  {
   "cell_type": "code",
   "execution_count": 7,
   "metadata": {},
   "outputs": [
    {
     "data": {
      "text/plain": [
       "Brand          False\n",
       "TotalCost      False\n",
       "TotalPrice     False\n",
       "TotalProfit    False\n",
       "dtype: bool"
      ]
     },
     "execution_count": 7,
     "metadata": {},
     "output_type": "execute_result"
    }
   ],
   "source": [
    "# Merge all the dataframes in one.\n",
    "\n",
    "df_brand = df_orders_brand.merge(df_total_qty, on=\"Brand\")\n",
    "df_brand = df_total_cost.merge(df_total_price, on=\"Brand\")\n",
    "#df_brand = df_brand.merge(df_total_sales, on=\"Brand\" )\n",
    "df_brand = df_brand.merge(df_total_profit, on=\"Brand\" )\n",
    "\n",
    "df_brand.isnull().any()"
   ]
  },
  {
   "cell_type": "code",
   "execution_count": 8,
   "metadata": {},
   "outputs": [
    {
     "data": {
      "text/html": [
       "<div>\n",
       "<style scoped>\n",
       "    .dataframe tbody tr th:only-of-type {\n",
       "        vertical-align: middle;\n",
       "    }\n",
       "\n",
       "    .dataframe tbody tr th {\n",
       "        vertical-align: top;\n",
       "    }\n",
       "\n",
       "    .dataframe thead th {\n",
       "        text-align: right;\n",
       "    }\n",
       "</style>\n",
       "<table border=\"1\" class=\"dataframe\">\n",
       "  <thead>\n",
       "    <tr style=\"text-align: right;\">\n",
       "      <th></th>\n",
       "      <th>TotalCost</th>\n",
       "      <th>TotalPrice</th>\n",
       "      <th>TotalProfit</th>\n",
       "    </tr>\n",
       "  </thead>\n",
       "  <tbody>\n",
       "    <tr>\n",
       "      <th>count</th>\n",
       "      <td>140.000000</td>\n",
       "      <td>140.000000</td>\n",
       "      <td>140.000000</td>\n",
       "    </tr>\n",
       "    <tr>\n",
       "      <th>mean</th>\n",
       "      <td>2151.795714</td>\n",
       "      <td>2957.050000</td>\n",
       "      <td>679.522143</td>\n",
       "    </tr>\n",
       "    <tr>\n",
       "      <th>std</th>\n",
       "      <td>5224.783450</td>\n",
       "      <td>7017.203002</td>\n",
       "      <td>1630.687405</td>\n",
       "    </tr>\n",
       "    <tr>\n",
       "      <th>min</th>\n",
       "      <td>5.000000</td>\n",
       "      <td>0.000000</td>\n",
       "      <td>-50.000000</td>\n",
       "    </tr>\n",
       "    <tr>\n",
       "      <th>25%</th>\n",
       "      <td>130.750000</td>\n",
       "      <td>202.750000</td>\n",
       "      <td>43.950000</td>\n",
       "    </tr>\n",
       "    <tr>\n",
       "      <th>50%</th>\n",
       "      <td>451.500000</td>\n",
       "      <td>692.500000</td>\n",
       "      <td>154.250000</td>\n",
       "    </tr>\n",
       "    <tr>\n",
       "      <th>75%</th>\n",
       "      <td>2296.000000</td>\n",
       "      <td>3189.250000</td>\n",
       "      <td>677.125000</td>\n",
       "    </tr>\n",
       "    <tr>\n",
       "      <th>max</th>\n",
       "      <td>54702.800000</td>\n",
       "      <td>73035.000000</td>\n",
       "      <td>15388.700000</td>\n",
       "    </tr>\n",
       "  </tbody>\n",
       "</table>\n",
       "</div>"
      ],
      "text/plain": [
       "          TotalCost    TotalPrice   TotalProfit\n",
       "count    140.000000    140.000000    140.000000\n",
       "mean    2151.795714   2957.050000    679.522143\n",
       "std     5224.783450   7017.203002   1630.687405\n",
       "min        5.000000      0.000000    -50.000000\n",
       "25%      130.750000    202.750000     43.950000\n",
       "50%      451.500000    692.500000    154.250000\n",
       "75%     2296.000000   3189.250000    677.125000\n",
       "max    54702.800000  73035.000000  15388.700000"
      ]
     },
     "execution_count": 8,
     "metadata": {},
     "output_type": "execute_result"
    }
   ],
   "source": [
    "df_brand.drop(['Brand'], axis=1,inplace=True)\n",
    "df_brand.describe()"
   ]
  },
  {
   "cell_type": "markdown",
   "metadata": {},
   "source": [
    "## Applying K-Means Clustering to Brand Expenses and Total Sales."
   ]
  },
  {
   "cell_type": "code",
   "execution_count": 9,
   "metadata": {},
   "outputs": [
    {
     "data": {
      "image/png": "[encoded data removed]",
      "text/plain": [
       "<Figure size 432x288 with 1 Axes>"
      ]
     },
     "metadata": {},
     "output_type": "display_data"
    }
   ],
   "source": [
    "# Create the Model\n",
    "\n",
    "df_KM = df_brand.drop(['TotalProfit'], axis=1)\n",
    "\n",
    "plt.scatter(df_KM.TotalCost, df_KM.TotalPrice)\n",
    "plt.title('Cost of operation vs Sales')\n",
    "plt.xlabel('Total Cost of Products')\n",
    "plt.ylabel('Total Sales')\n",
    "plt.show()"
   ]
  },
  {
   "cell_type": "code",
   "execution_count": 10,
   "metadata": {},
   "outputs": [],
   "source": [
    "KM = np.array(df_KM)\n",
    "\n",
    "k = 2\n",
    "kmeans = cluster.KMeans(n_clusters=k)\n",
    "kmeans.fit(KM)\n",
    "\n",
    "labels = kmeans.labels_\n",
    "centroids = kmeans.cluster_centers_"
   ]
  },
  {
   "cell_type": "code",
   "execution_count": 11,
   "metadata": {},
   "outputs": [
    {
     "data": {
      "image/png": "[encoded data removed]",
      "text/plain": [
       "<Figure size 432x288 with 1 Axes>"
      ]
     },
     "metadata": {},
     "output_type": "display_data"
    }
   ],
   "source": [
    "for i in range(k):\n",
    "    # select only data observations with cluster label == i\n",
    "    ds = KM[np.where(labels==i)]\n",
    "    # plot the data observations\n",
    "    plt.plot(ds[:,0],ds[:,1],'o', markersize=7)\n",
    "    # plot the centroids\n",
    "    lines = plt.plot(centroids[i,0],centroids[i,1],'kx')\n",
    "    # make the centroid x's bigger\n",
    "    plt.setp(lines,ms=15.0)\n",
    "    plt.setp(lines,mew=4.0)\n",
    "plt.show()"
   ]
  },
  {
   "cell_type": "code",
   "execution_count": 14,
   "metadata": {},
   "outputs": [
    {
     "data": {
      "text/html": [
       "<div>\n",
       "<style scoped>\n",
       "    .dataframe tbody tr th:only-of-type {\n",
       "        vertical-align: middle;\n",
       "    }\n",
       "\n",
       "    .dataframe tbody tr th {\n",
       "        vertical-align: top;\n",
       "    }\n",
       "\n",
       "    .dataframe thead th {\n",
       "        text-align: right;\n",
       "    }\n",
       "</style>\n",
       "<table border=\"1\" class=\"dataframe\">\n",
       "  <thead>\n",
       "    <tr style=\"text-align: right;\">\n",
       "      <th></th>\n",
       "      <th>TotalCost</th>\n",
       "      <th>TotalPrice</th>\n",
       "      <th>TotalProfit</th>\n",
       "    </tr>\n",
       "  </thead>\n",
       "  <tbody>\n",
       "    <tr>\n",
       "      <th>0</th>\n",
       "      <td>339.0</td>\n",
       "      <td>544</td>\n",
       "      <td>182.5</td>\n",
       "    </tr>\n",
       "    <tr>\n",
       "      <th>1</th>\n",
       "      <td>239.0</td>\n",
       "      <td>329</td>\n",
       "      <td>67.5</td>\n",
       "    </tr>\n",
       "    <tr>\n",
       "      <th>2</th>\n",
       "      <td>93.0</td>\n",
       "      <td>297</td>\n",
       "      <td>166.5</td>\n",
       "    </tr>\n",
       "    <tr>\n",
       "      <th>3</th>\n",
       "      <td>520.0</td>\n",
       "      <td>777</td>\n",
       "      <td>189.5</td>\n",
       "    </tr>\n",
       "    <tr>\n",
       "      <th>4</th>\n",
       "      <td>34.0</td>\n",
       "      <td>65</td>\n",
       "      <td>18.5</td>\n",
       "    </tr>\n",
       "  </tbody>\n",
       "</table>\n",
       "</div>"
      ],
      "text/plain": [
       "   TotalCost  TotalPrice  TotalProfit\n",
       "0      339.0         544        182.5\n",
       "1      239.0         329         67.5\n",
       "2       93.0         297        166.5\n",
       "3      520.0         777        189.5\n",
       "4       34.0          65         18.5"
      ]
     },
     "execution_count": 14,
     "metadata": {},
     "output_type": "execute_result"
    }
   ],
   "source": [
    "df_brand.head()"
   ]
  },
  {
   "cell_type": "code",
   "execution_count": 15,
   "metadata": {},
   "outputs": [
    {
     "data": {
      "image/png": "[encoded data removed]",
      "text/plain": [
       "<Figure size 432x288 with 1 Axes>"
      ]
     },
     "metadata": {},
     "output_type": "display_data"
    }
   ],
   "source": [
    "# Create the Model\n",
    "\n",
    "df_KM2 = df_brand.drop(['TotalCost'], axis=1)\n",
    "\n",
    "plt.scatter(df_KM2.TotalProfit, df_KM2.TotalPrice)\n",
    "plt.title('Profit vs Sales')\n",
    "plt.xlabel('Profit')\n",
    "plt.ylabel('Total Sales')\n",
    "plt.show()"
   ]
  },
  {
   "cell_type": "code",
   "execution_count": 16,
   "metadata": {},
   "outputs": [],
   "source": [
    "KM2 = np.array(df_KM2)\n",
    "\n",
    "k = 2\n",
    "kmeans = cluster.KMeans(n_clusters=k)\n",
    "kmeans.fit(KM2)\n",
    "\n",
    "labels = kmeans.labels_\n",
    "centroids = kmeans.cluster_centers_"
   ]
  },
  {
   "cell_type": "code",
   "execution_count": 17,
   "metadata": {},
   "outputs": [
    {
     "data": {
      "image/png": "[encoded data removed]",
      "text/plain": [
       "<Figure size 432x288 with 1 Axes>"
      ]
     },
     "metadata": {},
     "output_type": "display_data"
    }
   ],
   "source": [
    "for i in range(k):\n",
    "    # select only data observations with cluster label == i\n",
    "    ds = KM2[np.where(labels==i)]\n",
    "    # plot the data observations\n",
    "    plt.plot(ds[:,0],ds[:,1],'o', markersize=7)\n",
    "    # plot the centroids\n",
    "    lines = plt.plot(centroids[i,0],centroids[i,1],'kx')\n",
    "    # make the centroid x's bigger\n",
    "    plt.setp(lines,ms=15.0)\n",
    "    plt.setp(lines,mew=4.0)\n",
    "plt.show()"
   ]
  },
  {
   "cell_type": "code",
   "execution_count": null,
   "metadata": {},
   "outputs": [],
   "source": []
  }
 ],
 "metadata": {
  "kernelspec": {
   "display_name": "Python 3",
   "language": "python",
   "name": "python3"
  },
  "language_info": {
   "codemirror_mode": {
    "name": "ipython",
    "version": 3
   },
   "file_extension": ".py",
   "mimetype": "text/x-python",
   "name": "python",
   "nbconvert_exporter": "python",
   "pygments_lexer": "ipython3",
   "version": "3.6.4"
  }
 },
 "nbformat": 4,
 "nbformat_minor": 2
}
